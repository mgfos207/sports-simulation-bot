{
 "cells": [
  {
   "cell_type": "markdown",
   "metadata": {},
   "source": [
    "# NFL Historical Data for Simulation Bot"
   ]
  },
  {
   "cell_type": "code",
   "execution_count": 144,
   "metadata": {},
   "outputs": [],
   "source": [
    "import numpy as np\n",
    "import pandas as pd\n",
    "import matplotlib.pyplot as plt\n",
    "from matplotlib.dates import DateFormatter\n",
    "import matplotlib.dates as mdates\n",
    "import seaborn as sns"
   ]
  },
  {
   "cell_type": "code",
   "execution_count": 2,
   "metadata": {},
   "outputs": [],
   "source": [
    "sns.set_theme('notebook')"
   ]
  },
  {
   "cell_type": "code",
   "execution_count": 66,
   "metadata": {},
   "outputs": [],
   "source": [
    "pd.set_option('display.max_columns', None)\n",
    "pd.set_option('display.max_rows', 200)"
   ]
  },
  {
   "cell_type": "code",
   "execution_count": 4,
   "metadata": {},
   "outputs": [
    {
     "name": "stderr",
     "output_type": "stream",
     "text": [
      "/var/folders/80/rkdybljd1sz7w37r3nrwjnqw0000gn/T/ipykernel_52583/2094183706.py:3: DtypeWarning: Columns (66) have mixed types. Specify dtype option on import or set low_memory=False.\n",
      "  passrush_df = pd.read_csv(\"data/nfl_pass_rush_receive_raw_data.csv\")\n"
     ]
    }
   ],
   "source": [
    "#read in nfl data files\n",
    "dst_df = pd.read_csv(\"data/nfl_dst_raw_data.csv\")\n",
    "passrush_df = pd.read_csv(\"data/nfl_pass_rush_receive_raw_data.csv\")\n",
    "kicking_df = pd.read_csv(\"data/nfl_kicking_raw_data.csv\")"
   ]
  },
  {
   "cell_type": "markdown",
   "metadata": {},
   "source": [
    "Let's merge the dataframes together based on the `game_id` column"
   ]
  },
  {
   "cell_type": "code",
   "execution_count": 54,
   "metadata": {},
   "outputs": [],
   "source": [
    "cols_to_use = dst_df.columns.difference(passrush_df.columns).to_list()\n",
    "cols_to_use.append(\"game_id\")\n",
    "full_df = pd.merge(passrush_df, dst_df[cols_to_use], how='left', on=['game_id'])"
   ]
  },
  {
   "cell_type": "code",
   "execution_count": 56,
   "metadata": {},
   "outputs": [],
   "source": [
    "cols_to_use = kicking_df.columns.difference(full_df.columns).to_list()\n",
    "cols_to_use.append(\"game_id\")\n",
    "full_df = pd.merge(full_df, kicking_df[cols_to_use], how='left', on=['game_id'])"
   ]
  },
  {
   "cell_type": "code",
   "execution_count": 74,
   "metadata": {},
   "outputs": [],
   "source": [
    "grouped_df = full_df.groupby(by=['game_id', 'team', 'player_id']).first().reset_index()"
   ]
  },
  {
   "cell_type": "code",
   "execution_count": 81,
   "metadata": {},
   "outputs": [],
   "source": [
    "def get_team_points(row):\n",
    "    if row['team'] == row['home_team']: return row['home_score']\n",
    "    return row['vis_score']"
   ]
  },
  {
   "cell_type": "code",
   "execution_count": 88,
   "metadata": {},
   "outputs": [],
   "source": [
    "grouped_df['points'] = grouped_df.apply(lambda row: row['home_score'] if row['home_team'] == row['team'] else row['vis_score'], axis=1)\n",
    "grouped_df['points_allwed'] = grouped_df.apply(lambda row: row['home_score'] if row['home_team'] != row['team'] else row['vis_score'], axis=1)"
   ]
  },
  {
   "cell_type": "code",
   "execution_count": 152,
   "metadata": {},
   "outputs": [],
   "source": [
    "grouped_df['game_dt'] = pd.to_datetime(grouped_df['game_date'], format = \"%Y-%m-%d\")"
   ]
  },
  {
   "cell_type": "code",
   "execution_count": 153,
   "metadata": {},
   "outputs": [
    {
     "data": {
      "image/png": "[encoded data removed]",
      "text/plain": [
       "<Figure size 432x288 with 1 Axes>"
      ]
     },
     "metadata": {
      "needs_background": "light"
     },
     "output_type": "display_data"
    }
   ],
   "source": [
    "gb_data = grouped_df.loc[grouped_df['team'] == 'GNB']\n",
    "ax = sns.histplot(data=gb_data, x='points')"
   ]
  },
  {
   "cell_type": "code",
   "execution_count": 154,
   "metadata": {},
   "outputs": [
    {
     "data": {
      "text/html": [
       "<div>\n",
       "<style scoped>\n",
       "    .dataframe tbody tr th:only-of-type {\n",
       "        vertical-align: middle;\n",
       "    }\n",
       "\n",
       "    .dataframe tbody tr th {\n",
       "        vertical-align: top;\n",
       "    }\n",
       "\n",
       "    .dataframe thead th {\n",
       "        text-align: right;\n",
       "    }\n",
       "</style>\n",
       "<table border=\"1\" class=\"dataframe\">\n",
       "  <thead>\n",
       "    <tr style=\"text-align: right;\">\n",
       "      <th></th>\n",
       "      <th>game_dt</th>\n",
       "      <th>type_of_points</th>\n",
       "      <th>points_scored</th>\n",
       "    </tr>\n",
       "  </thead>\n",
       "  <tbody>\n",
       "    <tr>\n",
       "      <th>0</th>\n",
       "      <td>2019-09-05</td>\n",
       "      <td>points</td>\n",
       "      <td>10</td>\n",
       "    </tr>\n",
       "    <tr>\n",
       "      <th>1</th>\n",
       "      <td>2019-09-05</td>\n",
       "      <td>points</td>\n",
       "      <td>10</td>\n",
       "    </tr>\n",
       "    <tr>\n",
       "      <th>2</th>\n",
       "      <td>2019-09-05</td>\n",
       "      <td>points</td>\n",
       "      <td>10</td>\n",
       "    </tr>\n",
       "    <tr>\n",
       "      <th>3</th>\n",
       "      <td>2019-09-05</td>\n",
       "      <td>points</td>\n",
       "      <td>10</td>\n",
       "    </tr>\n",
       "    <tr>\n",
       "      <th>4</th>\n",
       "      <td>2019-09-05</td>\n",
       "      <td>points</td>\n",
       "      <td>10</td>\n",
       "    </tr>\n",
       "    <tr>\n",
       "      <th>...</th>\n",
       "      <td>...</td>\n",
       "      <td>...</td>\n",
       "      <td>...</td>\n",
       "    </tr>\n",
       "    <tr>\n",
       "      <th>1703</th>\n",
       "      <td>2022-12-04</td>\n",
       "      <td>points_allwed</td>\n",
       "      <td>19</td>\n",
       "    </tr>\n",
       "    <tr>\n",
       "      <th>1704</th>\n",
       "      <td>2022-12-04</td>\n",
       "      <td>points_allwed</td>\n",
       "      <td>19</td>\n",
       "    </tr>\n",
       "    <tr>\n",
       "      <th>1705</th>\n",
       "      <td>2022-12-04</td>\n",
       "      <td>points_allwed</td>\n",
       "      <td>19</td>\n",
       "    </tr>\n",
       "    <tr>\n",
       "      <th>1706</th>\n",
       "      <td>2022-12-04</td>\n",
       "      <td>points_allwed</td>\n",
       "      <td>19</td>\n",
       "    </tr>\n",
       "    <tr>\n",
       "      <th>1707</th>\n",
       "      <td>2022-12-04</td>\n",
       "      <td>points_allwed</td>\n",
       "      <td>19</td>\n",
       "    </tr>\n",
       "  </tbody>\n",
       "</table>\n",
       "<p>1708 rows × 3 columns</p>\n",
       "</div>"
      ],
      "text/plain": [
       "        game_dt type_of_points  points_scored\n",
       "0    2019-09-05         points             10\n",
       "1    2019-09-05         points             10\n",
       "2    2019-09-05         points             10\n",
       "3    2019-09-05         points             10\n",
       "4    2019-09-05         points             10\n",
       "...         ...            ...            ...\n",
       "1703 2022-12-04  points_allwed             19\n",
       "1704 2022-12-04  points_allwed             19\n",
       "1705 2022-12-04  points_allwed             19\n",
       "1706 2022-12-04  points_allwed             19\n",
       "1707 2022-12-04  points_allwed             19\n",
       "\n",
       "[1708 rows x 3 columns]"
      ]
     },
     "execution_count": 154,
     "metadata": {},
     "output_type": "execute_result"
    }
   ],
   "source": [
    "#melt the df on the date column\n",
    "gb_data = grouped_df[grouped_df['team'] == 'GNB']\n",
    "melted_df = gb_data[['game_dt', 'points', 'points_allwed']].melt('game_dt', var_name='type_of_points', value_name='points_scored')\n",
    "melted_df"
   ]
  },
  {
   "cell_type": "code",
   "execution_count": 179,
   "metadata": {},
   "outputs": [
    {
     "data": {
      "text/html": [
       "<div>\n",
       "<style scoped>\n",
       "    .dataframe tbody tr th:only-of-type {\n",
       "        vertical-align: middle;\n",
       "    }\n",
       "\n",
       "    .dataframe tbody tr th {\n",
       "        vertical-align: top;\n",
       "    }\n",
       "\n",
       "    .dataframe thead th {\n",
       "        text-align: right;\n",
       "    }\n",
       "</style>\n",
       "<table border=\"1\" class=\"dataframe\">\n",
       "  <thead>\n",
       "    <tr style=\"text-align: right;\">\n",
       "      <th></th>\n",
       "      <th>game_dt</th>\n",
       "      <th>type_of_points</th>\n",
       "      <th>points_scored</th>\n",
       "    </tr>\n",
       "  </thead>\n",
       "  <tbody>\n",
       "    <tr>\n",
       "      <th>0</th>\n",
       "      <td>2019-09-05</td>\n",
       "      <td>points</td>\n",
       "      <td>10</td>\n",
       "    </tr>\n",
       "    <tr>\n",
       "      <th>1</th>\n",
       "      <td>2019-09-05</td>\n",
       "      <td>points</td>\n",
       "      <td>10</td>\n",
       "    </tr>\n",
       "    <tr>\n",
       "      <th>2</th>\n",
       "      <td>2019-09-05</td>\n",
       "      <td>points</td>\n",
       "      <td>10</td>\n",
       "    </tr>\n",
       "    <tr>\n",
       "      <th>3</th>\n",
       "      <td>2019-09-05</td>\n",
       "      <td>points</td>\n",
       "      <td>10</td>\n",
       "    </tr>\n",
       "    <tr>\n",
       "      <th>4</th>\n",
       "      <td>2019-09-05</td>\n",
       "      <td>points</td>\n",
       "      <td>10</td>\n",
       "    </tr>\n",
       "    <tr>\n",
       "      <th>5</th>\n",
       "      <td>2019-09-05</td>\n",
       "      <td>points</td>\n",
       "      <td>10</td>\n",
       "    </tr>\n",
       "    <tr>\n",
       "      <th>6</th>\n",
       "      <td>2019-09-05</td>\n",
       "      <td>points</td>\n",
       "      <td>10</td>\n",
       "    </tr>\n",
       "    <tr>\n",
       "      <th>7</th>\n",
       "      <td>2019-09-05</td>\n",
       "      <td>points</td>\n",
       "      <td>10</td>\n",
       "    </tr>\n",
       "    <tr>\n",
       "      <th>8</th>\n",
       "      <td>2019-09-05</td>\n",
       "      <td>points</td>\n",
       "      <td>10</td>\n",
       "    </tr>\n",
       "    <tr>\n",
       "      <th>9</th>\n",
       "      <td>2019-09-05</td>\n",
       "      <td>points</td>\n",
       "      <td>10</td>\n",
       "    </tr>\n",
       "    <tr>\n",
       "      <th>10</th>\n",
       "      <td>2019-09-05</td>\n",
       "      <td>points</td>\n",
       "      <td>10</td>\n",
       "    </tr>\n",
       "    <tr>\n",
       "      <th>11</th>\n",
       "      <td>2019-09-05</td>\n",
       "      <td>points</td>\n",
       "      <td>10</td>\n",
       "    </tr>\n",
       "    <tr>\n",
       "      <th>12</th>\n",
       "      <td>2019-09-15</td>\n",
       "      <td>points</td>\n",
       "      <td>21</td>\n",
       "    </tr>\n",
       "    <tr>\n",
       "      <th>13</th>\n",
       "      <td>2019-09-15</td>\n",
       "      <td>points</td>\n",
       "      <td>21</td>\n",
       "    </tr>\n",
       "    <tr>\n",
       "      <th>14</th>\n",
       "      <td>2019-09-15</td>\n",
       "      <td>points</td>\n",
       "      <td>21</td>\n",
       "    </tr>\n",
       "    <tr>\n",
       "      <th>15</th>\n",
       "      <td>2019-09-15</td>\n",
       "      <td>points</td>\n",
       "      <td>21</td>\n",
       "    </tr>\n",
       "    <tr>\n",
       "      <th>16</th>\n",
       "      <td>2019-09-15</td>\n",
       "      <td>points</td>\n",
       "      <td>21</td>\n",
       "    </tr>\n",
       "    <tr>\n",
       "      <th>17</th>\n",
       "      <td>2019-09-15</td>\n",
       "      <td>points</td>\n",
       "      <td>21</td>\n",
       "    </tr>\n",
       "    <tr>\n",
       "      <th>18</th>\n",
       "      <td>2019-09-15</td>\n",
       "      <td>points</td>\n",
       "      <td>21</td>\n",
       "    </tr>\n",
       "    <tr>\n",
       "      <th>19</th>\n",
       "      <td>2019-09-15</td>\n",
       "      <td>points</td>\n",
       "      <td>21</td>\n",
       "    </tr>\n",
       "  </tbody>\n",
       "</table>\n",
       "</div>"
      ],
      "text/plain": [
       "      game_dt type_of_points  points_scored\n",
       "0  2019-09-05         points             10\n",
       "1  2019-09-05         points             10\n",
       "2  2019-09-05         points             10\n",
       "3  2019-09-05         points             10\n",
       "4  2019-09-05         points             10\n",
       "5  2019-09-05         points             10\n",
       "6  2019-09-05         points             10\n",
       "7  2019-09-05         points             10\n",
       "8  2019-09-05         points             10\n",
       "9  2019-09-05         points             10\n",
       "10 2019-09-05         points             10\n",
       "11 2019-09-05         points             10\n",
       "12 2019-09-15         points             21\n",
       "13 2019-09-15         points             21\n",
       "14 2019-09-15         points             21\n",
       "15 2019-09-15         points             21\n",
       "16 2019-09-15         points             21\n",
       "17 2019-09-15         points             21\n",
       "18 2019-09-15         points             21\n",
       "19 2019-09-15         points             21"
      ]
     },
     "execution_count": 179,
     "metadata": {},
     "output_type": "execute_result"
    }
   ],
   "source": [
    "melted_df.head(20)"
   ]
  },
  {
   "cell_type": "code",
   "execution_count": 182,
   "metadata": {},
   "outputs": [],
   "source": [
    "melted_df.drop_duplicates(inplace=True)"
   ]
  },
  {
   "cell_type": "code",
   "execution_count": 187,
   "metadata": {},
   "outputs": [
    {
     "data": {
      "image/png": "[encoded data removed]",
      "text/plain": [
       "<Figure size 432x288 with 1 Axes>"
      ]
     },
     "metadata": {
      "needs_background": "light"
     },
     "output_type": "display_data"
    }
   ],
   "source": [
    "ax = sns.lineplot(data=melted_df[(melted_df['game_dt'] >= '09-01-2019') & (melted_df['game_dt'] <= '01-31-2020')], x='game_dt', y='points_scored', hue='type_of_points', style=\"type_of_points\", markers=True)\n",
    "ax.tick_params(axis='x', rotation=45)\n",
    "# x_ticks = [tick for tick in ax.get_xticklabels()]\n",
    "# print(x_ticks)\n",
    "# x_dates = melted_df['game_dt'].dt.strftime('%Y-%m-%d').sort_values().unique()\n",
    "# ax.set_xticklabels(labels=x_dates, rotation=45, ha='right')\n",
    "# date_form = DateFormatter(\"%Y-%m\")\n",
    "# ax.xaxis.set_major_locator(mdates.AutoDateLocator())\n",
    "# ax.xaxis.set_major_formatter(date_form)\n",
    "# mdates.MonthLocator(interval=1)\n",
    "# ax.xaxis.set_major_locator(mdates.MonthLocator(interval=1))\n",
    "ax.xaxis.set_major_formatter(DateFormatter(\"%m-%d-%y\"))"
   ]
  },
  {
   "cell_type": "code",
   "execution_count": null,
   "metadata": {},
   "outputs": [],
   "source": []
  }
 ],
 "metadata": {
  "interpreter": {
   "hash": "31f2aee4e71d21fbe5cf8b01ff0e069b9275f58929596ceb00d14d90e3e16cd6"
  },
  "kernelspec": {
   "display_name": "Python 3.8.9 64-bit",
   "language": "python",
   "name": "python3"
  },
  "language_info": {
   "codemirror_mode": {
    "name": "ipython",
    "version": 3
   },
   "file_extension": ".py",
   "mimetype": "text/x-python",
   "name": "python",
   "nbconvert_exporter": "python",
   "pygments_lexer": "ipython3",
   "version": "3.8.9"
  },
  "orig_nbformat": 4
 },
 "nbformat": 4,
 "nbformat_minor": 2
}
